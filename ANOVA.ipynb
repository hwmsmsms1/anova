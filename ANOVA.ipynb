{
 "cells": [
  {
   "cell_type": "markdown",
   "id": "45a94f82",
   "metadata": {},
   "source": [
    "## 일원배치 분산분석(one-way ANOVA)\n",
    "\n",
    "### 기본 가정\n",
    "#### 1. 각 변수는 정규분포를 따라야함. (검정방법 : Shapiro test) \n",
    "* 샤피로 검정은 p-value구하기 까다롭기 때문에 왜도 절댓값이 2 미만으로 정규성 확인\n",
    "* H0 : 변수는 정규분포를 따를 것이다.\n",
    "* H1 : 변수는 정규분포를 따르지 않을 것이다.\n",
    "\n",
    "#### 2. 각 변수는 동일한 수준의 분산을 가져야함.\n",
    "* Barlett 검정, levene 방법 사용\n",
    "* H0 : 변수 간 분산에 유의미한 차이가 없을 것이다.(비슷 할 것이다)\n",
    "* H1 : 변수 간 분산에 유의미한 차이가 있을 것이다.\n",
    "\n",
    "#### 3. 각 변수는 독립적이다. (변수 사이에 영향을 주지 않는다.)"
   ]
  },
  {
   "cell_type": "code",
   "execution_count": 2,
   "id": "285d06df",
   "metadata": {},
   "outputs": [],
   "source": [
    "import pandas as pd\n",
    "import numpy as np\n",
    "\n",
    "pd.options.display.float_format = '{:.3f}'.format"
   ]
  },
  {
   "cell_type": "code",
   "execution_count": 5,
   "id": "ffcdfdb4",
   "metadata": {
    "scrolled": false
   },
   "outputs": [
    {
     "data": {
      "text/html": [
       "<div>\n",
       "<style scoped>\n",
       "    .dataframe tbody tr th:only-of-type {\n",
       "        vertical-align: middle;\n",
       "    }\n",
       "\n",
       "    .dataframe tbody tr th {\n",
       "        vertical-align: top;\n",
       "    }\n",
       "\n",
       "    .dataframe thead th {\n",
       "        text-align: right;\n",
       "    }\n",
       "</style>\n",
       "<table border=\"1\" class=\"dataframe\">\n",
       "  <thead>\n",
       "    <tr style=\"text-align: right;\">\n",
       "      <th></th>\n",
       "      <th>feed</th>\n",
       "      <th>kg</th>\n",
       "    </tr>\n",
       "  </thead>\n",
       "  <tbody>\n",
       "    <tr>\n",
       "      <th>0</th>\n",
       "      <td>1</td>\n",
       "      <td>30.300</td>\n",
       "    </tr>\n",
       "    <tr>\n",
       "      <th>1</th>\n",
       "      <td>1</td>\n",
       "      <td>33.700</td>\n",
       "    </tr>\n",
       "    <tr>\n",
       "      <th>2</th>\n",
       "      <td>1</td>\n",
       "      <td>32.300</td>\n",
       "    </tr>\n",
       "    <tr>\n",
       "      <th>3</th>\n",
       "      <td>1</td>\n",
       "      <td>31.100</td>\n",
       "    </tr>\n",
       "    <tr>\n",
       "      <th>4</th>\n",
       "      <td>1</td>\n",
       "      <td>32.200</td>\n",
       "    </tr>\n",
       "    <tr>\n",
       "      <th>5</th>\n",
       "      <td>1</td>\n",
       "      <td>32.300</td>\n",
       "    </tr>\n",
       "    <tr>\n",
       "      <th>6</th>\n",
       "      <td>1</td>\n",
       "      <td>34.200</td>\n",
       "    </tr>\n",
       "    <tr>\n",
       "      <th>7</th>\n",
       "      <td>1</td>\n",
       "      <td>35.200</td>\n",
       "    </tr>\n",
       "    <tr>\n",
       "      <th>8</th>\n",
       "      <td>1</td>\n",
       "      <td>32.300</td>\n",
       "    </tr>\n",
       "    <tr>\n",
       "      <th>9</th>\n",
       "      <td>2</td>\n",
       "      <td>32.600</td>\n",
       "    </tr>\n",
       "  </tbody>\n",
       "</table>\n",
       "</div>"
      ],
      "text/plain": [
       "   feed     kg\n",
       "0     1 30.300\n",
       "1     1 33.700\n",
       "2     1 32.300\n",
       "3     1 31.100\n",
       "4     1 32.200\n",
       "5     1 32.300\n",
       "6     1 34.200\n",
       "7     1 35.200\n",
       "8     1 32.300\n",
       "9     2 32.600"
      ]
     },
     "execution_count": 5,
     "metadata": {},
     "output_type": "execute_result"
    }
   ],
   "source": [
    "data = pd.DataFrame({'feed' : [1,1,1,1,1,1,1,1,1,\n",
    "                               2,2,2,2,2,2,2,2,2,\n",
    "                               3,3,3,3,3,3,3,3,3,\n",
    "                               4,4,4,4,4,4,4,4,4],\n",
    "                     'kg' : [30.3, 33.7, 32.3, 31.1, 32.2, 32.3, 34.2, 35.2, 32.3,\n",
    "                             32.6, 37.4, 32.2, 35.3, 36.2, 32.8, 35.3, 33.8, 34.2,\n",
    "                             31.3, 29.3, 35.3, 31.1, 30.0, 33.2, 31.3, 36.3, 32.4,\n",
    "                             32.4, 30.5, 31.2, 33.1, 34.1, 32.2, 33.1, 32.3, 31.5]})\n",
    "data.head(10)"
   ]
  },
  {
   "cell_type": "code",
   "execution_count": 54,
   "id": "64a36d40",
   "metadata": {
    "scrolled": false
   },
   "outputs": [
    {
     "name": "stdout",
     "output_type": "stream",
     "text": [
      "<class 'pandas.core.frame.DataFrame'>\n",
      "RangeIndex: 36 entries, 0 to 35\n",
      "Data columns (total 2 columns):\n",
      " #   Column  Non-Null Count  Dtype  \n",
      "---  ------  --------------  -----  \n",
      " 0   feed    36 non-null     object \n",
      " 1   kg      36 non-null     float64\n",
      "dtypes: float64(1), object(1)\n",
      "memory usage: 704.0+ bytes\n"
     ]
    }
   ],
   "source": [
    "data['feed'] = data['feed'].astype(object)\n",
    "data.info()"
   ]
  },
  {
   "cell_type": "code",
   "execution_count": 55,
   "id": "20833176",
   "metadata": {},
   "outputs": [
    {
     "name": "stdout",
     "output_type": "stream",
     "text": [
      "9 9 9 9\n"
     ]
    }
   ],
   "source": [
    "x1 = data[0:9]\n",
    "x2 = data[9:18]\n",
    "x3 = data[18:27]\n",
    "x4 = data[27:36]\n",
    "print(len(x1),len(x2),len(x3),len(x4))"
   ]
  },
  {
   "cell_type": "code",
   "execution_count": 56,
   "id": "f65b7fa3",
   "metadata": {},
   "outputs": [],
   "source": [
    "from scipy.stats import shapiro"
   ]
  },
  {
   "cell_type": "code",
   "execution_count": 57,
   "id": "405f15df",
   "metadata": {
    "scrolled": true
   },
   "outputs": [
    {
     "name": "stdout",
     "output_type": "stream",
     "text": [
      "사료 1 : ShapiroResult(statistic=0.6818474531173706, pvalue=4.949344656779431e-05)\n",
      "사료 2 : ShapiroResult(statistic=0.6876568794250488, pvalue=5.758753832196817e-05)\n",
      "사료 3 : ShapiroResult(statistic=0.7068629860877991, pvalue=9.60638135438785e-05)\n",
      "사료 4 : ShapiroResult(statistic=0.6745582818984985, pvalue=4.101284866919741e-05)\n"
     ]
    }
   ],
   "source": [
    "p_value_feed1 = shapiro(x1)\n",
    "print('사료 1 :', p_value_feed1)\n",
    "\n",
    "p_value_feed2 = shapiro(x2)\n",
    "print('사료 2 :', p_value_feed2)\n",
    "\n",
    "p_value_feed3 = shapiro(x3)\n",
    "print('사료 3 :', p_value_feed3)\n",
    "\n",
    "p_value_feed4 = shapiro(x4)\n",
    "print('사료 4 :', p_value_feed4)"
   ]
  },
  {
   "cell_type": "code",
   "execution_count": 58,
   "id": "de91cd4a",
   "metadata": {
    "scrolled": true
   },
   "outputs": [
    {
     "data": {
      "text/html": [
       "<div>\n",
       "<style scoped>\n",
       "    .dataframe tbody tr th:only-of-type {\n",
       "        vertical-align: middle;\n",
       "    }\n",
       "\n",
       "    .dataframe tbody tr th {\n",
       "        vertical-align: top;\n",
       "    }\n",
       "\n",
       "    .dataframe thead th {\n",
       "        text-align: right;\n",
       "    }\n",
       "</style>\n",
       "<table border=\"1\" class=\"dataframe\">\n",
       "  <thead>\n",
       "    <tr style=\"text-align: right;\">\n",
       "      <th></th>\n",
       "      <th>df</th>\n",
       "      <th>sum_sq</th>\n",
       "      <th>mean_sq</th>\n",
       "      <th>F</th>\n",
       "      <th>PR(&gt;F)</th>\n",
       "    </tr>\n",
       "  </thead>\n",
       "  <tbody>\n",
       "    <tr>\n",
       "      <th>C(feed)</th>\n",
       "      <td>3.000</td>\n",
       "      <td>29.022</td>\n",
       "      <td>9.674</td>\n",
       "      <td>3.207</td>\n",
       "      <td>0.036</td>\n",
       "    </tr>\n",
       "    <tr>\n",
       "      <th>Residual</th>\n",
       "      <td>32.000</td>\n",
       "      <td>96.533</td>\n",
       "      <td>3.017</td>\n",
       "      <td>NaN</td>\n",
       "      <td>NaN</td>\n",
       "    </tr>\n",
       "  </tbody>\n",
       "</table>\n",
       "</div>"
      ],
      "text/plain": [
       "             df  sum_sq  mean_sq     F  PR(>F)\n",
       "C(feed)   3.000  29.022    9.674 3.207   0.036\n",
       "Residual 32.000  96.533    3.017   NaN     NaN"
      ]
     },
     "execution_count": 58,
     "metadata": {},
     "output_type": "execute_result"
    }
   ],
   "source": [
    "from statsmodels.formula.api import ols\n",
    "from statsmodels.stats.anova import anova_lm, anova_single\n",
    "\n",
    "model = ols('kg ~ C(feed)', data).fit()\n",
    "anova_lm(model)"
   ]
  },
  {
   "cell_type": "code",
   "execution_count": 87,
   "id": "37a57080",
   "metadata": {
    "scrolled": true
   },
   "outputs": [
    {
     "data": {
      "text/html": [
       "<div>\n",
       "<style scoped>\n",
       "    .dataframe tbody tr th:only-of-type {\n",
       "        vertical-align: middle;\n",
       "    }\n",
       "\n",
       "    .dataframe tbody tr th {\n",
       "        vertical-align: top;\n",
       "    }\n",
       "\n",
       "    .dataframe thead th {\n",
       "        text-align: right;\n",
       "    }\n",
       "</style>\n",
       "<table border=\"1\" class=\"dataframe\">\n",
       "  <thead>\n",
       "    <tr style=\"text-align: right;\">\n",
       "      <th></th>\n",
       "      <th>country</th>\n",
       "      <th>temp</th>\n",
       "      <th>value</th>\n",
       "    </tr>\n",
       "  </thead>\n",
       "  <tbody>\n",
       "    <tr>\n",
       "      <th>0</th>\n",
       "      <td>1</td>\n",
       "      <td>180</td>\n",
       "      <td>97.600</td>\n",
       "    </tr>\n",
       "    <tr>\n",
       "      <th>1</th>\n",
       "      <td>1</td>\n",
       "      <td>190</td>\n",
       "      <td>98.600</td>\n",
       "    </tr>\n",
       "    <tr>\n",
       "      <th>2</th>\n",
       "      <td>1</td>\n",
       "      <td>200</td>\n",
       "      <td>99.000</td>\n",
       "    </tr>\n",
       "    <tr>\n",
       "      <th>3</th>\n",
       "      <td>1</td>\n",
       "      <td>210</td>\n",
       "      <td>98.000</td>\n",
       "    </tr>\n",
       "    <tr>\n",
       "      <th>4</th>\n",
       "      <td>2</td>\n",
       "      <td>180</td>\n",
       "      <td>97.300</td>\n",
       "    </tr>\n",
       "    <tr>\n",
       "      <th>5</th>\n",
       "      <td>2</td>\n",
       "      <td>190</td>\n",
       "      <td>98.200</td>\n",
       "    </tr>\n",
       "    <tr>\n",
       "      <th>6</th>\n",
       "      <td>2</td>\n",
       "      <td>200</td>\n",
       "      <td>98.000</td>\n",
       "    </tr>\n",
       "    <tr>\n",
       "      <th>7</th>\n",
       "      <td>2</td>\n",
       "      <td>210</td>\n",
       "      <td>97.700</td>\n",
       "    </tr>\n",
       "    <tr>\n",
       "      <th>8</th>\n",
       "      <td>3</td>\n",
       "      <td>180</td>\n",
       "      <td>96.700</td>\n",
       "    </tr>\n",
       "    <tr>\n",
       "      <th>9</th>\n",
       "      <td>3</td>\n",
       "      <td>190</td>\n",
       "      <td>96.900</td>\n",
       "    </tr>\n",
       "    <tr>\n",
       "      <th>10</th>\n",
       "      <td>3</td>\n",
       "      <td>200</td>\n",
       "      <td>97.900</td>\n",
       "    </tr>\n",
       "    <tr>\n",
       "      <th>11</th>\n",
       "      <td>3</td>\n",
       "      <td>210</td>\n",
       "      <td>96.500</td>\n",
       "    </tr>\n",
       "  </tbody>\n",
       "</table>\n",
       "</div>"
      ],
      "text/plain": [
       "    country  temp  value\n",
       "0         1   180 97.600\n",
       "1         1   190 98.600\n",
       "2         1   200 99.000\n",
       "3         1   210 98.000\n",
       "4         2   180 97.300\n",
       "5         2   190 98.200\n",
       "6         2   200 98.000\n",
       "7         2   210 97.700\n",
       "8         3   180 96.700\n",
       "9         3   190 96.900\n",
       "10        3   200 97.900\n",
       "11        3   210 96.500"
      ]
     },
     "execution_count": 87,
     "metadata": {},
     "output_type": "execute_result"
    }
   ],
   "source": [
    "data = pd.DataFrame({'country' : [1,1,1,1,\n",
    "                                  2,2,2,2,\n",
    "                                  3,3,3,3],\n",
    "                     'temp' : [180,190,200,210,\n",
    "                               180,190,200,210,\n",
    "                               180,190,200,210],\n",
    "                     'value' : [97.6, 98.6, 99.0, 98.0,\n",
    "                                97.3, 98.2, 98.0, 97.7,\n",
    "                                96.7, 96.9, 97.9, 96.5]})\n",
    "data"
   ]
  },
  {
   "cell_type": "code",
   "execution_count": 88,
   "id": "b8918f9a",
   "metadata": {
    "scrolled": true
   },
   "outputs": [
    {
     "name": "stderr",
     "output_type": "stream",
     "text": [
      "C:\\Users\\hmins\\anaconda3\\lib\\site-packages\\statsmodels\\stats\\anova.py:138: RuntimeWarning: divide by zero encountered in double_scalars\n",
      "  (model.ssr / model.df_resid))\n"
     ]
    },
    {
     "data": {
      "text/html": [
       "<div>\n",
       "<style scoped>\n",
       "    .dataframe tbody tr th:only-of-type {\n",
       "        vertical-align: middle;\n",
       "    }\n",
       "\n",
       "    .dataframe tbody tr th {\n",
       "        vertical-align: top;\n",
       "    }\n",
       "\n",
       "    .dataframe thead th {\n",
       "        text-align: right;\n",
       "    }\n",
       "</style>\n",
       "<table border=\"1\" class=\"dataframe\">\n",
       "  <thead>\n",
       "    <tr style=\"text-align: right;\">\n",
       "      <th></th>\n",
       "      <th>df</th>\n",
       "      <th>sum_sq</th>\n",
       "      <th>mean_sq</th>\n",
       "      <th>F</th>\n",
       "      <th>PR(&gt;F)</th>\n",
       "    </tr>\n",
       "  </thead>\n",
       "  <tbody>\n",
       "    <tr>\n",
       "      <th>C(temp)</th>\n",
       "      <td>3.000</td>\n",
       "      <td>2.220</td>\n",
       "      <td>0.740</td>\n",
       "      <td>0.000</td>\n",
       "      <td>NaN</td>\n",
       "    </tr>\n",
       "    <tr>\n",
       "      <th>C(country)</th>\n",
       "      <td>2.000</td>\n",
       "      <td>3.440</td>\n",
       "      <td>1.720</td>\n",
       "      <td>0.000</td>\n",
       "      <td>NaN</td>\n",
       "    </tr>\n",
       "    <tr>\n",
       "      <th>C(temp):C(country)</th>\n",
       "      <td>6.000</td>\n",
       "      <td>0.560</td>\n",
       "      <td>0.093</td>\n",
       "      <td>0.000</td>\n",
       "      <td>NaN</td>\n",
       "    </tr>\n",
       "    <tr>\n",
       "      <th>Residual</th>\n",
       "      <td>0.000</td>\n",
       "      <td>0.000</td>\n",
       "      <td>inf</td>\n",
       "      <td>NaN</td>\n",
       "      <td>NaN</td>\n",
       "    </tr>\n",
       "  </tbody>\n",
       "</table>\n",
       "</div>"
      ],
      "text/plain": [
       "                      df  sum_sq  mean_sq     F  PR(>F)\n",
       "C(temp)            3.000   2.220    0.740 0.000     NaN\n",
       "C(country)         2.000   3.440    1.720 0.000     NaN\n",
       "C(temp):C(country) 6.000   0.560    0.093 0.000     NaN\n",
       "Residual           0.000   0.000      inf   NaN     NaN"
      ]
     },
     "execution_count": 88,
     "metadata": {},
     "output_type": "execute_result"
    }
   ],
   "source": [
    "model = ols('value ~ C(temp) * C(country)', data).fit()\n",
    "anova_lm(model)"
   ]
  }
 ],
 "metadata": {
  "kernelspec": {
   "display_name": "Python 3 (ipykernel)",
   "language": "python",
   "name": "python3"
  },
  "language_info": {
   "codemirror_mode": {
    "name": "ipython",
    "version": 3
   },
   "file_extension": ".py",
   "mimetype": "text/x-python",
   "name": "python",
   "nbconvert_exporter": "python",
   "pygments_lexer": "ipython3",
   "version": "3.9.7"
  }
 },
 "nbformat": 4,
 "nbformat_minor": 5
}
